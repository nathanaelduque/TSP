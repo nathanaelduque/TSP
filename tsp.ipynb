{
  "nbformat": 4,
  "nbformat_minor": 0,
  "metadata": {
    "colab": {
      "provenance": []
    },
    "kernelspec": {
      "name": "python3",
      "display_name": "Python 3"
    },
    "language_info": {
      "name": "python"
    }
  },
  "cells": [
    {
      "cell_type": "code",
      "execution_count": 1,
      "metadata": {
        "colab": {
          "base_uri": "https://localhost:8080/"
        },
        "id": "U6_BNG5pneH3",
        "outputId": "938e6e05-701e-4dad-c6f7-6d87747ede85"
      },
      "outputs": [
        {
          "output_type": "stream",
          "name": "stdout",
          "text": [
            "Requirement already satisfied: pulp in /usr/local/lib/python3.10/dist-packages (2.8.0)\n"
          ]
        }
      ],
      "source": [
        "!pip install pulp"
      ]
    },
    {
      "cell_type": "code",
      "source": [
        "import numpy as np\n",
        "\n",
        "filename = \"Tsp58_2.txt\"\n",
        "matrix = []\n",
        "with open(filename, 'r') as file:\n",
        "    for line in file:\n",
        "        row = list(map(int, line.strip().split()))\n",
        "        matrix.append(row)\n",
        "\n",
        "m58 = np.zeros([58,58])\n",
        "for i in range(0,len(m58)-1):\n",
        "  for j in range(0,len(matrix[i])):\n",
        "      m58[i][i+j+1]=matrix[i][j]\n",
        "\n",
        "for i in range(0,len(m58)):\n",
        "  for j in range(0,len(m58)):\n",
        "    if i==j:\n",
        "      m58[i][j]=99999\n",
        "    elif i < j:\n",
        "      m58[j][i]=m58[i][j]\n",
        "print(m58)"
      ],
      "metadata": {
        "colab": {
          "base_uri": "https://localhost:8080/"
        },
        "id": "tToYgZexnrtW",
        "outputId": "d3e67d20-8b13-43bd-a18c-7f50c7f0aebf"
      },
      "execution_count": 7,
      "outputs": [
        {
          "output_type": "stream",
          "name": "stdout",
          "text": [
            "[[99999.  2635.  2713. ...  3870.  1417.   739.]\n",
            " [ 2635. 99999.   314. ...  2072.  1196.  1517.]\n",
            " [ 2713.   314. 99999. ...  1882.  2699.  1557.]\n",
            " ...\n",
            " [ 3870.  2072.  1882. ... 99999.  2328.  2986.]\n",
            " [ 1417.  1196.  2699. ...  2328. 99999.   962.]\n",
            " [  739.  1517.  1557. ...  2986.   962. 99999.]]\n"
          ]
        }
      ]
    },
    {
      "cell_type": "code",
      "source": [
        "size = 58\n",
        "departure = [str(i) for i in range(size)]\n",
        "arrival = [str(i) for i in range(size)]\n",
        "\n",
        "distance = {}\n",
        "\n",
        "for dep in departure:\n",
        "    distance[dep] = {}\n",
        "    for arr in arrival:\n",
        "        cost = m58[int(dep)][int(arr)]\n",
        "        distance[dep][arr] = cost"
      ],
      "metadata": {
        "id": "jWwVL5npnyoe"
      },
      "execution_count": 8,
      "outputs": []
    },
    {
      "cell_type": "code",
      "source": [
        "from pulp import *\n",
        "\n",
        "lp_problem = LpProblem(\"Traveling Salesman Problem\", LpMinimize)\n",
        "\n",
        "routes = [ (d, a) for d in departure for a in arrival ]\n",
        "\n",
        "vars = LpVariable.dicts(\"best route\", (departure, arrival), 0, 1, LpInteger)\n",
        "vars_f = LpVariable.dicts('Flow', (departure, arrival), 0, None, LpInteger)\n",
        "n = len(departure)-1\n",
        "\n",
        "lp_problem += (lpSum([vars[o][d] * distance[o][d] for (o, d) in routes]),\"Soma_das_distancias_percorridas\", )\n",
        "\n",
        "for a in arrival:\n",
        "    lp_problem += ( lpSum([vars[d][a] for d in departure]) == 1, f\"Sum_Arrivel_{a}\",)\n",
        "\n",
        "for d in departure:\n",
        "    lp_problem += ( lpSum([vars[d][a] for a in arrival]) == 1, f\"Sum_departure_{d}\",)\n",
        "\n",
        "lp_problem += (\n",
        "        lpSum([vars[a][a] for a in arrival]) == 0, f\"Sum_{a,a}\",)\n",
        "\n",
        "for d in departure:\n",
        "        for a in arrival:\n",
        "                lp_problem += (\n",
        "                        vars_f[d][a] <= n*vars[d][a]\n",
        "                        )\n",
        "\n",
        "for o in ['1','2','3','4','5','6','7','8','9','10','11','12','13','14','15','16','17','18','19','20','21','22','23','24',\t'25','26','27',\t'28','29','30','31','32','33','34','35','36','37','38','39','40','41','42','43','44','45','46','47','48','49','50','51','52','53','54','55','56','57']:\n",
        "        lp_problem += (\n",
        "                lpSum([vars_f[a][o]-vars_f[o][a] for a in arrival]) == 1,\n",
        "                f\"Flow_balance_{o}\",\n",
        "                )\n"
      ],
      "metadata": {
        "id": "LoT0hqnRn6Of"
      },
      "execution_count": 9,
      "outputs": []
    },
    {
      "cell_type": "code",
      "source": [
        "print(\"Status:\", LpStatus[lp_problem.status])\n",
        "lp_problem.solve()"
      ],
      "metadata": {
        "colab": {
          "base_uri": "https://localhost:8080/"
        },
        "id": "tNpMRiUcn7iZ",
        "outputId": "071094d8-3d57-4801-b853-707def900e6d"
      },
      "execution_count": null,
      "outputs": [
        {
          "output_type": "stream",
          "name": "stdout",
          "text": [
            "Status: Not Solved\n"
          ]
        }
      ]
    },
    {
      "cell_type": "code",
      "source": [
        "if lp_problem.status == LpStatusOptimal:\n",
        "    print(\"Solução ótima encontrada:\")\n",
        "    for var in lp_problem.variables():\n",
        "        print(var.name, \"=\", var.varValue)\n",
        "else:\n",
        "    print(\"Não foi possível encontrar uma solução ótima.\")"
      ],
      "metadata": {
        "colab": {
          "base_uri": "https://localhost:8080/",
          "height": 219
        },
        "id": "LhjGsEjFwtYN",
        "outputId": "0382fb96-e10c-4974-f9d1-d30641db513a"
      },
      "execution_count": 1,
      "outputs": [
        {
          "output_type": "error",
          "ename": "NameError",
          "evalue": "name 'lp_problem' is not defined",
          "traceback": [
            "\u001b[0;31m---------------------------------------------------------------------------\u001b[0m",
            "\u001b[0;31mNameError\u001b[0m                                 Traceback (most recent call last)",
            "\u001b[0;32m<ipython-input-1-3c6cd01f5569>\u001b[0m in \u001b[0;36m<cell line: 1>\u001b[0;34m()\u001b[0m\n\u001b[0;32m----> 1\u001b[0;31m \u001b[0;32mif\u001b[0m \u001b[0mlp_problem\u001b[0m\u001b[0;34m.\u001b[0m\u001b[0mstatus\u001b[0m \u001b[0;34m==\u001b[0m \u001b[0mLpStatusOptimal\u001b[0m\u001b[0;34m:\u001b[0m\u001b[0;34m\u001b[0m\u001b[0;34m\u001b[0m\u001b[0m\n\u001b[0m\u001b[1;32m      2\u001b[0m     \u001b[0;31m# Aqui você pode imprimir ou salvar a solução encontrada\u001b[0m\u001b[0;34m\u001b[0m\u001b[0;34m\u001b[0m\u001b[0m\n\u001b[1;32m      3\u001b[0m     \u001b[0mprint\u001b[0m\u001b[0;34m(\u001b[0m\u001b[0;34m\"Solução ótima encontrada:\"\u001b[0m\u001b[0;34m)\u001b[0m\u001b[0;34m\u001b[0m\u001b[0;34m\u001b[0m\u001b[0m\n\u001b[1;32m      4\u001b[0m     \u001b[0;32mfor\u001b[0m \u001b[0mvar\u001b[0m \u001b[0;32min\u001b[0m \u001b[0mlp_problem\u001b[0m\u001b[0;34m.\u001b[0m\u001b[0mvariables\u001b[0m\u001b[0;34m(\u001b[0m\u001b[0;34m)\u001b[0m\u001b[0;34m:\u001b[0m\u001b[0;34m\u001b[0m\u001b[0;34m\u001b[0m\u001b[0m\n\u001b[1;32m      5\u001b[0m         \u001b[0mprint\u001b[0m\u001b[0;34m(\u001b[0m\u001b[0mvar\u001b[0m\u001b[0;34m.\u001b[0m\u001b[0mname\u001b[0m\u001b[0;34m,\u001b[0m \u001b[0;34m\"=\"\u001b[0m\u001b[0;34m,\u001b[0m \u001b[0mvar\u001b[0m\u001b[0;34m.\u001b[0m\u001b[0mvarValue\u001b[0m\u001b[0;34m)\u001b[0m\u001b[0;34m\u001b[0m\u001b[0;34m\u001b[0m\u001b[0m\n",
            "\u001b[0;31mNameError\u001b[0m: name 'lp_problem' is not defined"
          ]
        }
      ]
    }
  ]
}