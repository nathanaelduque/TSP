{
  "nbformat": 4,
  "nbformat_minor": 0,
  "metadata": {
    "colab": {
      "provenance": []
    },
    "kernelspec": {
      "name": "python3",
      "display_name": "Python 3"
    },
    "language_info": {
      "name": "python"
    }
  },
  "cells": [
    {
      "cell_type": "code",
      "source": [
        "! pip install pulp"
      ],
      "metadata": {
        "colab": {
          "base_uri": "https://localhost:8080/"
        },
        "id": "7umAy4kwz5zU",
        "outputId": "578cc829-fb05-4f2d-e0a1-0d0445e617e4"
      },
      "execution_count": 2,
      "outputs": [
        {
          "output_type": "stream",
          "name": "stdout",
          "text": [
            "Collecting pulp\n",
            "  Downloading PuLP-2.8.0-py3-none-any.whl (17.7 MB)\n",
            "\u001b[2K     \u001b[90m━━━━━━━━━━━━━━━━━━━━━━━━━━━━━━━━━━━━━━━━\u001b[0m \u001b[32m17.7/17.7 MB\u001b[0m \u001b[31m58.3 MB/s\u001b[0m eta \u001b[36m0:00:00\u001b[0m\n",
            "\u001b[?25hInstalling collected packages: pulp\n",
            "Successfully installed pulp-2.8.0\n"
          ]
        }
      ]
    },
    {
      "cell_type": "code",
      "execution_count": 3,
      "metadata": {
        "id": "V9b5zHwNzPVb"
      },
      "outputs": [],
      "source": [
        "import numpy as np\n",
        "from pulp import *"
      ]
    },
    {
      "cell_type": "code",
      "source": [
        "filename = \"Tsp58_2.txt\"\n",
        "matrix = []\n",
        "with open(filename, 'r') as file:\n",
        "    for line in file:\n",
        "        row = list(map(int, line.strip().split()))\n",
        "        matrix.append(row)\n",
        "\n",
        "m58 = np.zeros([58,58])\n",
        "for i in range(0,len(m58)-1):\n",
        "    for j in range(0,len(matrix[i])):\n",
        "        m58[i][i+j+1]=matrix[i][j]\n",
        "\n",
        "for i in range(0,len(m58)):\n",
        "  for j in range(0,len(m58)):\n",
        "    if i==j:\n",
        "        m58[i][j]=0\n",
        "    elif i < j:\n",
        "        m58[j][i]=m58[i][j]\n",
        "print(m58)\n",
        "matriz_distancias=m58[:5,:5]\n",
        "print(matriz_distancias)\n",
        "\n",
        "size = 5\n",
        "\n",
        "departure = [str(i) for i in range(size)]\n",
        "arrival = [str(i) for i in range(size)]\n",
        "\n",
        "distance = {}\n",
        "\n",
        "for dep in departure:\n",
        "    distance[dep] = {}\n",
        "    for arr in arrival:\n",
        "        cost = matriz_distancias[int(dep)][int(arr)]\n",
        "        distance[dep][arr] = cost"
      ],
      "metadata": {
        "colab": {
          "base_uri": "https://localhost:8080/"
        },
        "id": "CHS8pIIC0E68",
        "outputId": "9eff3cbe-0185-4636-8335-1604b40a1b44"
      },
      "execution_count": 5,
      "outputs": [
        {
          "output_type": "stream",
          "name": "stdout",
          "text": [
            "[[   0. 2635. 2713. ... 3870. 1417.  739.]\n",
            " [2635.    0.  314. ... 2072. 1196. 1517.]\n",
            " [2713.  314.    0. ... 1882. 2699. 1557.]\n",
            " ...\n",
            " [3870. 2072. 1882. ...    0. 2328. 2986.]\n",
            " [1417. 1196. 2699. ... 2328.    0.  962.]\n",
            " [ 739. 1517. 1557. ... 2986.  962.    0.]]\n",
            "[[   0. 2635. 2713. 2437. 1600.]\n",
            " [2635.    0.  314. 2636.  666.]\n",
            " [2713.  314.    0. 2730.  706.]\n",
            " [2437. 2636. 2730.    0. 2824.]\n",
            " [1600.  666.  706. 2824.    0.]]\n"
          ]
        }
      ]
    },
    {
      "cell_type": "code",
      "source": [
        "lp_problem = LpProblem(\"Traveling Salesman Problem\", LpMinimize)\n",
        "\n",
        "routes = [ (d, a) for d in departure for a in arrival ]\n",
        "\n",
        "vars = LpVariable.dicts(\"best route\", (departure, arrival), 0, 1, LpInteger)\n",
        "vars_f = LpVariable.dicts('Flow', (departure, arrival), 0, None, LpInteger)\n",
        "n = len(departure)-1\n",
        "\n",
        "lp_problem += (lpSum([vars[o][d] * distance[o][d] for (o, d) in routes]),\"Soma_das_distancias_percorridas\", )\n",
        "\n",
        "for a in arrival:\n",
        "    lp_problem += ( lpSum([vars[d][a] for d in departure]) == 1, f\"Sum_Arrivel_{a}\",)\n",
        "\n",
        "for d in departure:\n",
        "    lp_problem += ( lpSum([vars[d][a] for a in arrival]) == 1, f\"Sum_departure_{d}\",)\n",
        "\n",
        "lp_problem += (\n",
        "        lpSum([vars[a][a] for a in arrival]) == 0, f\"Sum_{a,a}\",)\n",
        "\n",
        "for d in departure:\n",
        "        for a in arrival:\n",
        "                lp_problem += (\n",
        "                        vars_f[d][a] <= n*vars[d][a]\n",
        "                        )\n",
        "\n",
        "for o in ['1','2','3','4']:\n",
        "        lp_problem += (\n",
        "                lpSum([vars_f[a][o]-vars_f[o][a] for a in arrival]) == 1,\n",
        "                f\"Flow_balance_{o}\",\n",
        "                )"
      ],
      "metadata": {
        "id": "pLbxN3iS0L6F"
      },
      "execution_count": 7,
      "outputs": []
    },
    {
      "cell_type": "code",
      "source": [
        "lp_problem.solve()\n",
        "print(\"Status:\", LpStatus[lp_problem.status])"
      ],
      "metadata": {
        "colab": {
          "base_uri": "https://localhost:8080/"
        },
        "id": "yc9HBsOH0Mn9",
        "outputId": "f5cff1a5-0ca3-4770-a4cf-a611da44c2ac"
      },
      "execution_count": 9,
      "outputs": [
        {
          "output_type": "stream",
          "name": "stdout",
          "text": [
            "Status: Optimal\n"
          ]
        }
      ]
    },
    {
      "cell_type": "code",
      "source": [
        "if lp_problem.status == LpStatusOptimal:\n",
        "    print(\"Solução ótima encontrada:\")\n",
        "    for var in lp_problem.variables():\n",
        "        print(var.name, \"=\", var.varValue)\n",
        "else:\n",
        "    print(\"Não foi possível encontrar uma solução ótima.\")"
      ],
      "metadata": {
        "colab": {
          "base_uri": "https://localhost:8080/"
        },
        "id": "_EeaOQ7_0ZYw",
        "outputId": "2308289e-f2ed-41d6-f04c-1cd3d1ce165f"
      },
      "execution_count": 11,
      "outputs": [
        {
          "output_type": "stream",
          "name": "stdout",
          "text": [
            "Solução ótima encontrada:\n",
            "Flow_0_0 = 0.0\n",
            "Flow_0_1 = 0.0\n",
            "Flow_0_2 = 0.0\n",
            "Flow_0_3 = 0.0\n",
            "Flow_0_4 = 4.0\n",
            "Flow_1_0 = 0.0\n",
            "Flow_1_1 = 0.0\n",
            "Flow_1_2 = 0.0\n",
            "Flow_1_3 = 1.0\n",
            "Flow_1_4 = 0.0\n",
            "Flow_2_0 = 0.0\n",
            "Flow_2_1 = 2.0\n",
            "Flow_2_2 = 0.0\n",
            "Flow_2_3 = 0.0\n",
            "Flow_2_4 = 0.0\n",
            "Flow_3_0 = 0.0\n",
            "Flow_3_1 = 0.0\n",
            "Flow_3_2 = 0.0\n",
            "Flow_3_3 = 0.0\n",
            "Flow_3_4 = 0.0\n",
            "Flow_4_0 = 0.0\n",
            "Flow_4_1 = 0.0\n",
            "Flow_4_2 = 3.0\n",
            "Flow_4_3 = 0.0\n",
            "Flow_4_4 = 0.0\n",
            "best_route_0_0 = 0.0\n",
            "best_route_0_1 = 0.0\n",
            "best_route_0_2 = 0.0\n",
            "best_route_0_3 = 0.0\n",
            "best_route_0_4 = 1.0\n",
            "best_route_1_0 = 0.0\n",
            "best_route_1_1 = 0.0\n",
            "best_route_1_2 = 0.0\n",
            "best_route_1_3 = 1.0\n",
            "best_route_1_4 = 0.0\n",
            "best_route_2_0 = 0.0\n",
            "best_route_2_1 = 1.0\n",
            "best_route_2_2 = 0.0\n",
            "best_route_2_3 = 0.0\n",
            "best_route_2_4 = 0.0\n",
            "best_route_3_0 = 1.0\n",
            "best_route_3_1 = 0.0\n",
            "best_route_3_2 = 0.0\n",
            "best_route_3_3 = 0.0\n",
            "best_route_3_4 = 0.0\n",
            "best_route_4_0 = 0.0\n",
            "best_route_4_1 = 0.0\n",
            "best_route_4_2 = 1.0\n",
            "best_route_4_3 = 0.0\n",
            "best_route_4_4 = 0.0\n"
          ]
        }
      ]
    },
    {
      "cell_type": "code",
      "source": [
        "print(\"Custo total:\", pulp.value(lp_problem.objective))"
      ],
      "metadata": {
        "colab": {
          "base_uri": "https://localhost:8080/"
        },
        "id": "hxavLGW80trC",
        "outputId": "aff05d2c-842a-4870-98a0-a47e777f2c35"
      },
      "execution_count": 13,
      "outputs": [
        {
          "output_type": "stream",
          "name": "stdout",
          "text": [
            "Custo total: 7693.0\n"
          ]
        }
      ]
    }
  ]
}